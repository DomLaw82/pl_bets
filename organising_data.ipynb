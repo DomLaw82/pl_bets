{
 "cells": [
  {
   "cell_type": "markdown",
   "metadata": {},
   "source": [
    "# Ways to organise the data to predict outcomes"
   ]
  },
  {
   "cell_type": "markdown",
   "metadata": {},
   "source": [
    "## Group players by position"
   ]
  },
  {
   "cell_type": "markdown",
   "metadata": {},
   "source": [
    "Group players position on each team for each stat  \n",
    "Average the per 90 stat contributions for each position:\n",
    "- calculate the contribution of each players stats to the position average based on the **expected_game_time**\n",
    "- expected_game_time - calculated from player lifetime average game time  \n",
    "\n",
    "Combine all the stats for the home and away team, as well as the match facts"
   ]
  },
  {
   "cell_type": "markdown",
   "metadata": {
    "vscode": {
     "languageId": "plaintext"
    }
   },
   "source": [
    "## Per 90 difference (home - away/away - home) grouped by position"
   ]
  },
  {
   "cell_type": "markdown",
   "metadata": {},
   "source": [
    "Method:\n",
    "- Group the data by team and position  \n",
    "- Average the per 90 stat contributions  \n",
    "- To reduce the number of the features, do (home-away/away-home depending on the team we are calculating for) for each stat in each position; halves the number of features in the table"
   ]
  },
  {
   "cell_type": "markdown",
   "metadata": {},
   "source": [
    "## Clustering"
   ]
  },
  {
   "cell_type": "markdown",
   "metadata": {},
   "source": [
    "Use clustering to group players together"
   ]
  },
  {
   "cell_type": "markdown",
   "metadata": {},
   "source": [
    "- These groups can then be used to average the stats over, determine whether players are over/under performing, for comparison directly with players in the same position in other teams\n",
    "- These clusters can also be used to select the stats most relevant to the players position, and the stats that, for each of those positions, contribute the most to wins"
   ]
  },
  {
   "cell_type": "markdown",
   "metadata": {},
   "source": [
    "k clusters could be:\n",
    "- **3**, for the thirds of the pitch\n",
    "- **9**, dividing the pitch into thirds lengthwise and breadth-wise\n",
    "- **4**, for thirds + goalkeepers, which are expected to be part of their own group\n",
    "\n",
    "This value will most likely be **iteratively tested between 1 and 11**, the number of players on a pitch, to see if any of these groups produce viable results"
   ]
  },
  {
   "cell_type": "markdown",
   "metadata": {},
   "source": [
    "# Ways to use the data"
   ]
  },
  {
   "cell_type": "markdown",
   "metadata": {},
   "source": [
    "## For predicting future matches"
   ]
  },
  {
   "cell_type": "markdown",
   "metadata": {},
   "source": [
    "Per 90 lifetime contributions for each player\n",
    "- Create a table of the per 90 contributions of every player over their entire time in the league, within the period of data collected\n",
    "- Collecting the [fbref](https://fbref.com/en/comps/9/stats/Premier-League-Stats#all_stats_standard) table data at the end of every weekend (Mon/Tue/Wed depending on the schedule) to have the latest stats ready for the next gameweek"
   ]
  },
  {
   "cell_type": "markdown",
   "metadata": {},
   "source": [
    "Per 90 season contributions for each player (season form)\n",
    "- Create a table of the per 90 contributions of every player over the present season\n",
    "- Collecting the [fbref](https://fbref.com/en/comps/9/stats/Premier-League-Stats#all_stats_standard) table data at the end of every weekend (Mon/Tue/Wed depending on the schedule) to have the latest stats ready for the next gameweek"
   ]
  },
  {
   "cell_type": "markdown",
   "metadata": {},
   "source": [
    "Some combination of these two values for each player are used to generate the final value for the player's contribution"
   ]
  },
  {
   "cell_type": "markdown",
   "metadata": {},
   "source": [
    "## For predicting previous matches (validation/testing)"
   ]
  },
  {
   "cell_type": "markdown",
   "metadata": {},
   "source": [
    "For the prediction of matches from previous years:\n",
    "- Only use the stats available for the season that the game is given in\n",
    "- i.e. only use 2016/17 and prior stats to predict the result for matches in 2016/17 season\n",
    "\n",
    "2 methods available:\n",
    "- **Use the only the preceding season/s stats to predict the outcome of the ongoing season**\n",
    "\t- The only data that can be accessed easily is the summary stats for the entire season\n",
    "\t- This data is the final outcomes for the players in these standard statistics for the entire season\n",
    "\t- Using the preceding year/s data only means that, when testing, the data used to predict the results of games will have already been generated, and therefore would apply to the games being played, as the only data that can be accessed is the \n",
    "- **Use data for the entire season to predict these stats**\n",
    "\t- The data for the entire season could be applied to games throughout the season\n",
    "\t- This uses the per 90 stats for the entire season to predict the outcome of games during the season\n",
    "\t- Some of the data being used to predict the results will not have been generated as of the game being looked at, and so we will be using data that was unavailable at the time to help predict the result\n",
    "\t- Additionally, this method would not be possible for games that are going on presently, as the data for the present season is updated weekly, and therefore changing values will be used on a weekly basis to predict the result of ongoing games\n",
    "\n",
    "\n",
    "Both methods will be attempted and the accuracy noted"
   ]
  },
  {
   "cell_type": "markdown",
   "metadata": {},
   "source": [
    "# Prediction Output"
   ]
  },
  {
   "cell_type": "markdown",
   "metadata": {},
   "source": [
    "## All Match Facts"
   ]
  },
  {
   "cell_type": "markdown",
   "metadata": {},
   "source": [
    "Running the same model for each of the match facts separately to predict all outcomes of the game:\n",
    "- home_goals\n",
    "- home_shots\n",
    "- home_shots_on_target\n",
    "- home_yellow_cards\n",
    "- home_red_cards\n",
    "- home_corners\n",
    "- home_fouls\n",
    "- away_goals\n",
    "- away_shots\n",
    "- away_shots_on_target\n",
    "- away_corners\n",
    "- away_fouls\n",
    "- away_yellow_cards\n",
    "- away_red_cards"
   ]
  }
 ],
 "metadata": {
  "language_info": {
   "name": "python"
  }
 },
 "nbformat": 4,
 "nbformat_minor": 2
}
