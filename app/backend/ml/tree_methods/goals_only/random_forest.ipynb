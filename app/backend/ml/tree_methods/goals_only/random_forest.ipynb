{
 "cells": [
  {
   "cell_type": "markdown",
   "metadata": {},
   "source": [
    "# PL Bets - Random Forest"
   ]
  },
  {
   "cell_type": "markdown",
   "metadata": {},
   "source": [
    "## Using a Random Forest to predict PL goals"
   ]
  },
  {
   "cell_type": "markdown",
   "metadata": {},
   "source": [
    "Using a random forest algorithm to predict the:\n",
    "- home goals,\n",
    "- away goals,  \n",
    "\n",
    "from:\n",
    "- match facts from the games between the 2 teams\n",
    "- the historic statistics from players in the team\n",
    "\t- using predicted line-up\n",
    "\t- using average lineup/average time on pitch\n",
    "\t- using lineup released 1 hour before kick-off"
   ]
  }
 ],
 "metadata": {
  "language_info": {
   "name": "python"
  }
 },
 "nbformat": 4,
 "nbformat_minor": 2
}
