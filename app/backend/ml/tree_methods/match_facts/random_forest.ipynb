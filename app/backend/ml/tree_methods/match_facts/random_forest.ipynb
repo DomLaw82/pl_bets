{
 "cells": [
  {
   "cell_type": "markdown",
   "metadata": {},
   "source": [
    "# PL Bets - Random Forest"
   ]
  },
  {
   "cell_type": "markdown",
   "metadata": {},
   "source": [
    "## Using a Random Forest to predict PL goals"
   ]
  },
  {
   "cell_type": "markdown",
   "metadata": {},
   "source": [
    "Using a random forest algorithm to predict the:\n",
    "\n",
    "- home_goals\n",
    "- home_shots\n",
    "- home_shots_on_target\n",
    "- home_yellow_cards\n",
    "- home_red_cards\n",
    "- home_corners\n",
    "- home_fouls\n",
    "- away_goals\n",
    "- away_shots\n",
    "- away_shots_on_target\n",
    "- away_corners\n",
    "- away_fouls\n",
    "- away_yellow_cards\n",
    "- away_red_cards \n",
    "\n",
    "from:\n",
    "\n",
    "- match facts from the games between the 2 teams\n",
    "- the historic statistics from players in the team\n",
    "\t- using predicted line-up\n",
    "\t- using average lineup/average time on pitch\n",
    "\t- using lineup released 1 hour before kick-off"
   ]
  }
 ],
 "metadata": {
  "language_info": {
   "name": "python"
  }
 },
 "nbformat": 4,
 "nbformat_minor": 2
}
