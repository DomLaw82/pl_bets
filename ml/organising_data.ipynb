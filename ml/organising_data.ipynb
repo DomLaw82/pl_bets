{
 "cells": [
  {
   "cell_type": "markdown",
   "metadata": {},
   "source": [
    "# Ways to organise the data to predict outcomes"
   ]
  },
  {
   "cell_type": "markdown",
   "metadata": {},
   "source": [
    "## Group players by position"
   ]
  },
  {
   "cell_type": "markdown",
   "metadata": {},
   "source": [
    "Group players position on each team for each stat\n",
    "Average the per 90 stat contributions for each position\n",
    "- calculate the contribution of each players stats to the position average based on the **expected_game_time**\n",
    "- expected_game_time - calculated from player lifetime average game time  \n",
    "\n",
    "Combine all the stats for the home and away team, as well as the match facts"
   ]
  },
  {
   "cell_type": "code",
   "execution_count": null,
   "metadata": {
    "vscode": {
     "languageId": "plaintext"
    }
   },
   "outputs": [],
   "source": []
  },
  {
   "cell_type": "markdown",
   "metadata": {},
   "source": [
    "# Prediction"
   ]
  },
  {
   "cell_type": "markdown",
   "metadata": {},
   "source": [
    "## Goals"
   ]
  },
  {
   "cell_type": "markdown",
   "metadata": {},
   "source": [
    "Predict home goals and away goals separately, i.e. use all stats to predict home goals and away goals independently\n",
    "- This preserves the effect of the opposing stats on the outcome for the team"
   ]
  },
  {
   "cell_type": "markdown",
   "metadata": {},
   "source": [
    "## All Match Facts"
   ]
  },
  {
   "cell_type": "markdown",
   "metadata": {},
   "source": [
    "Running the same model for each of the match facts separately to predict all outcomes of the game:\n",
    "- home_goals\n",
    "- home_shots\n",
    "- home_shots_on_target\n",
    "- home_yellow_cards\n",
    "- home_red_cards\n",
    "- home_corners\n",
    "- home_fouls\n",
    "- away_goals\n",
    "- away_shots\n",
    "- away_shots_on_target\n",
    "- away_corners\n",
    "- away_fouls\n",
    "- away_yellow_cards\n",
    "- away_red_cards"
   ]
  }
 ],
 "metadata": {
  "language_info": {
   "name": "python"
  }
 },
 "nbformat": 4,
 "nbformat_minor": 2
}
